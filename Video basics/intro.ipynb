{
 "cells": [
  {
   "cell_type": "markdown",
   "metadata": {},
   "source": [
    "<h2>CONNECTING A CAMERA</h2> USING OPENCV TO CONNECT TO CAMERA AND WRITE VIDEO STREAM TO A FILE"
   ]
  },
  {
   "cell_type": "code",
   "execution_count": 3,
   "metadata": {},
   "outputs": [],
   "source": [
    "# In this cell we use opencv to access our default camera and just show ourse;ves in a new window. also we use another method of exiting the window by using the ord()\n",
    "# function which takes in any key from the keyboard as input and only that key can be used to exit from the window.\n",
    "\n",
    "import cv2\n",
    "\n",
    "#DONT RUN MULTIPLE NOTEBOOKS WHEN USING VIDEO OF OPENCV\n",
    "\n",
    "cap = cv2.VideoCapture(0) # this will detect our default camera and simply select it as our workbench for capturing video.\n",
    "# the function will detect it and assign the camera to a variable we define which is \"cap\" in this case\n",
    "\n",
    "# below 2 statements are used to capture the width and height of the video which out camera is capturing so that we can manipulate the incoming video . According to our\n",
    "# camera quality the values will vary and they will returned as a float. \n",
    "width = int(cap.get(cv2.CAP_PROP_FRAME_WIDTH)) # 1080.0....... This gets the width of our video in float and hence we convert it to int. \n",
    "height = int(cap.get(cv2.CAP_PROP_FRAME_HEIGHT)) # this gets height... In this cell we dont use height and width but it is necessary for video manipulation\n",
    "\n",
    "# in above statements we simply selected our camera and told opencv to get width and heigth of video which it will capture. below we start the actual capture of video.\n",
    "# below is used to create a new window and view the video. the read() method will start capturing the video. it return a tuple. out of them the \"frame\" one will have the\n",
    "# actual video and we use it. When video is starting to capture we can convert the video being received by opencv to gray as is shown in this cell. in below cell we show \n",
    "# how to normal capture video. to convert to gray we use previous image processing process simply . which will convert the incoming video to gray. \n",
    "# then we show the frame and use gray as output. \n",
    "# the if condition is used to exit from video. we furst wait few seconds and acording to given syntax , when we press \"q\" the window will die. \n",
    "# Once we kill the window we also have to release the camera use by opencv. So we use the release() method on the cap variable which is actually accessing the camera.\n",
    "# After it release the camera we destroy any open windows. \n",
    "#  IT IS COMPULSORY TO USE THE RELEASE() METHOD ELSE OUR CAMERA WILL KEEP RUNNING\n",
    "\n",
    "while True:\n",
    "    ret, frame = cap.read()\n",
    "    gray = cv2.cvtColor(frame, cv2.COLOR_BGR2GRAY)\n",
    "    cv2.imshow('frame', gray)\n",
    "\n",
    "    if cv2.waitKey(1) & 0xFF == ord('q'):\n",
    "        break\n",
    "\n",
    "cap.release()\n",
    "cv2.destroyAllWindows() "
   ]
  },
  {
   "cell_type": "code",
   "execution_count": 4,
   "metadata": {},
   "outputs": [],
   "source": [
    "\n",
    "import cv2\n",
    "\n",
    "cap = cv2.VideoCapture(0) \n",
    "\n",
    "width = int(cap.get(cv2.CAP_PROP_FRAME_WIDTH)) \n",
    "height = int(cap.get(cv2.CAP_PROP_FRAME_HEIGHT)) \n",
    "\n",
    "\n",
    "while True:\n",
    "    ret, frame = cap.read()\n",
    "    cv2.imshow('frame', frame)\n",
    "\n",
    "    if cv2.waitKey(1) & 0xFF == ord('q'):\n",
    "        break\n",
    "\n",
    "cap.release()\n",
    "cv2.destroyAllWindows() "
   ]
  },
  {
   "cell_type": "code",
   "execution_count": 5,
   "metadata": {},
   "outputs": [],
   "source": [
    "# Now we see how to save the incomgin video to a file\n",
    "# we just need to add 3  lines\n",
    "\n",
    "\n",
    "import cv2\n",
    "\n",
    "cap = cv2.VideoCapture(0) \n",
    "\n",
    "width = int(cap.get(cv2.CAP_PROP_FRAME_WIDTH)) \n",
    "height = int(cap.get(cv2.CAP_PROP_FRAME_HEIGHT)) \n",
    "\n",
    "#LINE 1\n",
    "writer = cv2.VideoWriter('mysupervideo.mp4', cv2.VideoWriter_fourcc(*'DIVX'), 20, (width,height))\n",
    "# above line is used to tell opencv we want to record video from camera we have.. The function needed id given.. It needs the name of the file we want it to be. \n",
    "# also we can provide a custom path to the file. Which means that opencv can save the file in any location we want. we just have to provide the path using necessary syntax for\n",
    "# file path and opencv will save the file at that location. Next we need to tell the video codec in which video is to be captured. the given function takes in value\n",
    "# in given format. but the 'DIVX' is the compulsory because it is for windows, its different for mac and linux. so the divx is the codec in which opencv will capture video.\n",
    "# next is the frames per seconds we want to capture. it is limited by the camera we have. so for safe usage we simply take 20 here. also we can get how many frames per second our\n",
    "# camera can capture by using the CAP_PROP_FRAME_COUNT feature like we use above and save it in a variable like we do for width above. next we need the width and height of video\n",
    "# our camera can capture.\n",
    "\n",
    "\n",
    "while True:\n",
    "    ret, frame = cap.read()\n",
    "\n",
    "    #LINE 2\n",
    "    #Drawing\n",
    "    # this line will start saving the incoming video\n",
    "    writer.write(frame)\n",
    "\n",
    "    cv2.imshow('frame', frame)\n",
    "\n",
    "    if cv2.waitKey(1) & 0xFF == ord('q'):\n",
    "        break\n",
    "\n",
    "cap.release()\n",
    "\n",
    "#LINE 3\n",
    "# this will stop recording the incoming video\n",
    "writer.release()\n",
    "\n",
    "cv2.destroyAllWindows() "
   ]
  },
  {
   "cell_type": "code",
   "execution_count": null,
   "metadata": {},
   "outputs": [],
   "source": []
  }
 ],
 "metadata": {
  "kernelspec": {
   "display_name": "Python 3.10.5 64-bit",
   "language": "python",
   "name": "python3"
  },
  "language_info": {
   "codemirror_mode": {
    "name": "ipython",
    "version": 3
   },
   "file_extension": ".py",
   "mimetype": "text/x-python",
   "name": "python",
   "nbconvert_exporter": "python",
   "pygments_lexer": "ipython3",
   "version": "3.10.5"
  },
  "orig_nbformat": 4,
  "vscode": {
   "interpreter": {
    "hash": "fbc768028c3e6ead51d9a200ddcb2ec858ae62844dcd1994729a8279be9b48f2"
   }
  }
 },
 "nbformat": 4,
 "nbformat_minor": 2
}
