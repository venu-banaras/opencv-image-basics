{
 "cells": [
  {
   "cell_type": "code",
   "execution_count": 4,
   "metadata": {},
   "outputs": [],
   "source": [
    "# in this we learn how to open existing video files with opencv. so instead of using simple 0 which represents default camera we provide the video file to our capture \n",
    "# variable. Rest everything is same \n",
    "import cv2\n",
    "\n",
    "cap = cv2.VideoCapture('mysupervideo.mp4') # to open video files we simply provide the video filename and yes we can give the filepath to other file\n",
    "\n",
    "if cap.isOpened() == False:  # if file cannot be found and load or if wrong codec was used for OS being used then use this\n",
    "    print('FILE NOT FOUND.')\n",
    "\n",
    "while cap.isOpened(): # this means file was found and is able to be read by opencv\n",
    "    ret, frame = cap.read() # read() method starts reading the file in this case and returns True if it was able to read the file and also the frames which it is reading as a tuple\n",
    "\n",
    "    if ret == True: # start showing the video in  a new window called frame.\n",
    "        cv2.imshow('frame',frame)\n",
    "        if cv2.waitKey(10) & 0xFF == ord('q'):\n",
    "            break\n",
    "    else:\n",
    "        break\n",
    "\n",
    "cap.release()\n",
    "cv2.destroyAllWindows()\n"
   ]
  },
  {
   "cell_type": "code",
   "execution_count": 3,
   "metadata": {},
   "outputs": [],
   "source": [
    "import cv2\n",
    "import time # we can use this for slowing down playback speed of video because opencv runs the video faster speed than human according to the computer. hence 1 hour video does\n",
    "# not take 1 hour to be played . \n",
    "\n",
    "cap = cv2.VideoCapture('mysupervideo.mp4') # to open video files we simply provide the video filename and yes we can give the filepath to other file\n",
    "\n",
    "if cap.isOpened() == False:  # if file cannot be found and loaded or if wrong codec was used for OS being used then use this\n",
    "    print('FILE NOT FOUND.')\n",
    "\n",
    "while cap.isOpened():\n",
    "    ret, frame = cap.read()\n",
    "\n",
    "    if ret == True:\n",
    "\n",
    "        time.sleep(1/20) # slow video accordig to no of frame in this case 20 frame per second\n",
    "        \n",
    "        cv2.imshow('frame',frame)\n",
    "        if cv2.waitKey(10) & 0xFF == ord('q'):\n",
    "            break\n",
    "    else:\n",
    "        break\n",
    "\n",
    "cap.release()\n",
    "cv2.destroyAllWindows()\n"
   ]
  },
  {
   "cell_type": "code",
   "execution_count": null,
   "metadata": {},
   "outputs": [],
   "source": []
  }
 ],
 "metadata": {
  "kernelspec": {
   "display_name": "Python 3.10.5 64-bit",
   "language": "python",
   "name": "python3"
  },
  "language_info": {
   "codemirror_mode": {
    "name": "ipython",
    "version": 3
   },
   "file_extension": ".py",
   "mimetype": "text/x-python",
   "name": "python",
   "nbconvert_exporter": "python",
   "pygments_lexer": "ipython3",
   "version": "3.10.5"
  },
  "orig_nbformat": 4,
  "vscode": {
   "interpreter": {
    "hash": "fbc768028c3e6ead51d9a200ddcb2ec858ae62844dcd1994729a8279be9b48f2"
   }
  }
 },
 "nbformat": 4,
 "nbformat_minor": 2
}
