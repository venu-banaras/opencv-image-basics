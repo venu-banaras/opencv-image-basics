{
 "cells": [
  {
   "cell_type": "markdown",
   "metadata": {},
   "source": [
    "<h2> drawing a rectanlge while dragging mouse on an image</h2>\n"
   ]
  },
  {
   "cell_type": "code",
   "execution_count": 1,
   "metadata": {},
   "outputs": [],
   "source": [
    "import cv2\n",
    "import numpy as np\n",
    "\n",
    "#VARIABLES\n",
    "drawing = False # will be true while mouse button is clicked and false while not clicked\n",
    "ix,iy = -1,-1 \n",
    "\n",
    "#FUNCTION\n",
    "def draw_rect_on_drag(event,x,y,flags,params):\n",
    "    global ix,iy,drawing\n",
    "\n",
    "    if event == cv2.EVENT_LBUTTONDOWN:\n",
    "        drawing = True  # fire rectanlge draw when left mouse is clicked\n",
    "        ix,iy = x,y \n",
    "    elif event == cv2.EVENT_MOUSEMOVE:\n",
    "        if drawing == True: # first cjeck if moujse is really clicked or if mouse if just moving\n",
    "            cv2.rectangle(img,(ix,iy),(x,y),color=(0,0,255),thickness=10) # start drawing rectangle while mouse is clicked and dragging\n",
    "    elif event == cv2.EVENT_LBUTTONUP:\n",
    "        drawing = False # if mouse is released\n",
    "        cv2.rectangle(img,(ix,iy),(x,y),color=(0,0,255),thickness=10) # since mouse stop dragging simply show the rectable\n",
    "\n",
    "\n",
    "#SHOWING IMAGE\n",
    "img = np.zeros((712,712,3))\n",
    "cv2.namedWindow(winname='DragDraw')\n",
    "cv2.setMouseCallback('DragDraw',draw_rect_on_drag)\n",
    "\n",
    "while True:\n",
    "    cv2.imshow('DragDraw',img)\n",
    "\n",
    "    if cv2.waitKey(1) & 0xFF == 27:\n",
    "        break\n",
    "\n",
    "cv2.destroyAllWindows()"
   ]
  },
  {
   "cell_type": "code",
   "execution_count": null,
   "metadata": {},
   "outputs": [],
   "source": []
  }
 ],
 "metadata": {
  "kernelspec": {
   "display_name": "Python 3.10.5 64-bit",
   "language": "python",
   "name": "python3"
  },
  "language_info": {
   "codemirror_mode": {
    "name": "ipython",
    "version": 3
   },
   "file_extension": ".py",
   "mimetype": "text/x-python",
   "name": "python",
   "nbconvert_exporter": "python",
   "pygments_lexer": "ipython3",
   "version": "3.10.5"
  },
  "orig_nbformat": 4,
  "vscode": {
   "interpreter": {
    "hash": "fbc768028c3e6ead51d9a200ddcb2ec858ae62844dcd1994729a8279be9b48f2"
   }
  }
 },
 "nbformat": 4,
 "nbformat_minor": 2
}
